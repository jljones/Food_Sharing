{
 "cells": [
  {
   "cell_type": "code",
   "execution_count": null,
   "metadata": {
    "collapsed": true
   },
   "outputs": [],
   "source": [
    "# Python 3.4"
   ]
  },
  {
   "cell_type": "code",
   "execution_count": 2,
   "metadata": {
    "collapsed": false
   },
   "outputs": [
    {
     "name": "stdout",
     "output_type": "stream",
     "text": [
      "Populating the interactive namespace from numpy and matplotlib\n"
     ]
    }
   ],
   "source": [
    "%pylab inline\n",
    "import numpy as np\n",
    "import pandas as pd\n",
    "import matplotlib.pyplot as plt"
   ]
  },
  {
   "cell_type": "code",
   "execution_count": 13,
   "metadata": {
    "collapsed": false
   },
   "outputs": [
    {
     "name": "stdout",
     "output_type": "stream",
     "text": [
      "[[  37.885279 -122.273261]\n",
      " [  37.859551 -122.256716]\n",
      " [  37.85789  -122.256835]\n",
      " [  37.850825 -122.25102 ]\n",
      " [  37.846619 -122.279768]\n",
      " [  37.843327 -122.287563]\n",
      " [  37.838258 -122.268621]\n",
      " [  37.837722 -122.263093]\n",
      " [  37.837574 -122.262793]]\n"
     ]
    },
    {
     "data": {
      "text/html": [
       "<div>\n",
       "<table border=\"1\" class=\"dataframe\">\n",
       "  <thead>\n",
       "    <tr style=\"text-align: right;\">\n",
       "      <th></th>\n",
       "      <th>lat</th>\n",
       "      <th>long</th>\n",
       "    </tr>\n",
       "  </thead>\n",
       "  <tbody>\n",
       "    <tr>\n",
       "      <th>0</th>\n",
       "      <td>37.885279</td>\n",
       "      <td>-122.273261</td>\n",
       "    </tr>\n",
       "    <tr>\n",
       "      <th>1</th>\n",
       "      <td>37.859551</td>\n",
       "      <td>-122.256716</td>\n",
       "    </tr>\n",
       "    <tr>\n",
       "      <th>2</th>\n",
       "      <td>37.857890</td>\n",
       "      <td>-122.256835</td>\n",
       "    </tr>\n",
       "    <tr>\n",
       "      <th>3</th>\n",
       "      <td>37.850825</td>\n",
       "      <td>-122.251020</td>\n",
       "    </tr>\n",
       "    <tr>\n",
       "      <th>4</th>\n",
       "      <td>37.846619</td>\n",
       "      <td>-122.279768</td>\n",
       "    </tr>\n",
       "    <tr>\n",
       "      <th>5</th>\n",
       "      <td>37.843327</td>\n",
       "      <td>-122.287563</td>\n",
       "    </tr>\n",
       "    <tr>\n",
       "      <th>6</th>\n",
       "      <td>37.838258</td>\n",
       "      <td>-122.268621</td>\n",
       "    </tr>\n",
       "    <tr>\n",
       "      <th>7</th>\n",
       "      <td>37.837722</td>\n",
       "      <td>-122.263093</td>\n",
       "    </tr>\n",
       "    <tr>\n",
       "      <th>8</th>\n",
       "      <td>37.837574</td>\n",
       "      <td>-122.262793</td>\n",
       "    </tr>\n",
       "  </tbody>\n",
       "</table>\n",
       "</div>"
      ],
      "text/plain": [
       "         lat        long\n",
       "0  37.885279 -122.273261\n",
       "1  37.859551 -122.256716\n",
       "2  37.857890 -122.256835\n",
       "3  37.850825 -122.251020\n",
       "4  37.846619 -122.279768\n",
       "5  37.843327 -122.287563\n",
       "6  37.838258 -122.268621\n",
       "7  37.837722 -122.263093\n",
       "8  37.837574 -122.262793"
      ]
     },
     "execution_count": 13,
     "metadata": {},
     "output_type": "execute_result"
    }
   ],
   "source": [
    "listlat = 37.885279, 37.859551, 37.85789, 37.850825, 37.846619, 37.843327, 37.838258, 37.837722, 37.837574\n",
    "listlong = -122.273261, -122.256716, -122.256835, -122.25102, -122.279768, -122.287563, -122.268621, -122.263093, -122.262793\n",
    "\n",
    "latlong = np.array([listlat, listlong]).T\n",
    "print(latlong)\n",
    "\n",
    "data = pd.DataFrame(data = latlong, columns = ('lat', 'long'))\n",
    "data"
   ]
  },
  {
   "cell_type": "code",
   "execution_count": 14,
   "metadata": {
    "collapsed": false
   },
   "outputs": [
    {
     "data": {
      "text/plain": [
       "0    37.885279\n",
       "1    37.859551\n",
       "2    37.857890\n",
       "3    37.850825\n",
       "4    37.846619\n",
       "5    37.843327\n",
       "6    37.838258\n",
       "7    37.837722\n",
       "8    37.837574\n",
       "Name: lat, dtype: float64"
      ]
     },
     "execution_count": 14,
     "metadata": {},
     "output_type": "execute_result"
    }
   ],
   "source": [
    "data.lat"
   ]
  },
  {
   "cell_type": "code",
   "execution_count": 15,
   "metadata": {
    "collapsed": false
   },
   "outputs": [
    {
     "data": {
      "text/plain": [
       "0    37.885279\n",
       "1    37.859551\n",
       "2    37.857890\n",
       "3    37.850825\n",
       "4    37.846619\n",
       "Name: lat, dtype: float64"
      ]
     },
     "execution_count": 15,
     "metadata": {},
     "output_type": "execute_result"
    }
   ],
   "source": [
    "data.lat[0:5]"
   ]
  },
  {
   "cell_type": "code",
   "execution_count": 19,
   "metadata": {
    "collapsed": false
   },
   "outputs": [
    {
     "data": {
      "text/html": [
       "<div>\n",
       "<table border=\"1\" class=\"dataframe\">\n",
       "  <thead>\n",
       "    <tr style=\"text-align: right;\">\n",
       "      <th></th>\n",
       "      <th>lat</th>\n",
       "      <th>long</th>\n",
       "    </tr>\n",
       "  </thead>\n",
       "  <tbody>\n",
       "    <tr>\n",
       "      <th>0</th>\n",
       "      <td>37.885279</td>\n",
       "      <td>-122.273261</td>\n",
       "    </tr>\n",
       "    <tr>\n",
       "      <th>1</th>\n",
       "      <td>37.859551</td>\n",
       "      <td>-122.256716</td>\n",
       "    </tr>\n",
       "    <tr>\n",
       "      <th>2</th>\n",
       "      <td>37.857890</td>\n",
       "      <td>-122.256835</td>\n",
       "    </tr>\n",
       "    <tr>\n",
       "      <th>3</th>\n",
       "      <td>37.850825</td>\n",
       "      <td>-122.251020</td>\n",
       "    </tr>\n",
       "    <tr>\n",
       "      <th>4</th>\n",
       "      <td>37.846619</td>\n",
       "      <td>-122.279768</td>\n",
       "    </tr>\n",
       "  </tbody>\n",
       "</table>\n",
       "</div>"
      ],
      "text/plain": [
       "         lat        long\n",
       "0  37.885279 -122.273261\n",
       "1  37.859551 -122.256716\n",
       "2  37.857890 -122.256835\n",
       "3  37.850825 -122.251020\n",
       "4  37.846619 -122.279768"
      ]
     },
     "execution_count": 19,
     "metadata": {},
     "output_type": "execute_result"
    }
   ],
   "source": [
    "data.iloc[0:5]"
   ]
  },
  {
   "cell_type": "code",
   "execution_count": null,
   "metadata": {
    "collapsed": true
   },
   "outputs": [],
   "source": []
  },
  {
   "cell_type": "code",
   "execution_count": null,
   "metadata": {
    "collapsed": true
   },
   "outputs": [],
   "source": []
  },
  {
   "cell_type": "code",
   "execution_count": null,
   "metadata": {
    "collapsed": true
   },
   "outputs": [],
   "source": []
  },
  {
   "cell_type": "code",
   "execution_count": null,
   "metadata": {
    "collapsed": true
   },
   "outputs": [],
   "source": []
  },
  {
   "cell_type": "code",
   "execution_count": null,
   "metadata": {
    "collapsed": true
   },
   "outputs": [],
   "source": [
    "function initMap() {\n",
    "  var myLatLng = {lat: -25.363, lng: 131.044};\n",
    "\n",
    "  var map = new google.maps.Map(document.getElementById('map'), {\n",
    "    zoom: 4,\n",
    "    center: myLatLng\n",
    "  });\n",
    "\n",
    "  var marker = new google.maps.Marker({\n",
    "    position: myLatLng,\n",
    "    map: map,\n",
    "    title: 'Hello World!'\n",
    "  });\n",
    "}\n"
   ]
  },
  {
   "cell_type": "code",
   "execution_count": null,
   "metadata": {
    "collapsed": true
   },
   "outputs": [],
   "source": [
    "html_str = \"\"\"\n",
    "<table border=1>\n",
    "     <tr>\n",
    "       <th>Number</th>\n",
    "       <th>Square</th>\n",
    "     </tr>\n",
    "     <indent>\n",
    "     <% for i in range(10): %>\n",
    "       <tr>\n",
    "         <td><%= i %></td>\n",
    "         <td><%= i**2 %></td>\n",
    "       </tr>\n",
    "     </indent>\n",
    "</table>\n",
    "\n",
    "function initMap() {\n",
    "  var myLatLng = {lat: -25.363, lng: 131.044};\n",
    "\n",
    "  var map = new google.maps.Map(document.getElementById('map'), {\n",
    "    zoom: 4,\n",
    "    center: myLatLng\n",
    "  });\n",
    "\n",
    "  var marker = new google.maps.Marker({\n",
    "    position: myLatLng,\n",
    "    map: map,\n",
    "    title: 'Hello World!'\n",
    "  });\n",
    "}\n",
    "\n",
    "\"\"\"\n",
    "\n",
    "Html_file= open(\"filename\",\"w\")\n",
    "Html_file.write(html_str)\n",
    "Html_file.close()"
   ]
  },
  {
   "cell_type": "code",
   "execution_count": null,
   "metadata": {
    "collapsed": true
   },
   "outputs": [],
   "source": []
  },
  {
   "cell_type": "code",
   "execution_count": null,
   "metadata": {
    "collapsed": true
   },
   "outputs": [],
   "source": []
  },
  {
   "cell_type": "code",
   "execution_count": null,
   "metadata": {
    "collapsed": true
   },
   "outputs": [],
   "source": []
  }
 ],
 "metadata": {
  "kernelspec": {
   "display_name": "Python 3",
   "language": "python",
   "name": "python3"
  },
  "language_info": {
   "codemirror_mode": {
    "name": "ipython",
    "version": 3
   },
   "file_extension": ".py",
   "mimetype": "text/x-python",
   "name": "python",
   "nbconvert_exporter": "python",
   "pygments_lexer": "ipython3",
   "version": "3.4.3"
  }
 },
 "nbformat": 4,
 "nbformat_minor": 0
}
