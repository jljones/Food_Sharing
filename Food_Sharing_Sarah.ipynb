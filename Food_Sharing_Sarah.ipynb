{
 "cells": [
  {
   "cell_type": "markdown",
   "metadata": {
    "collapsed": true
   },
   "source": [
    "# Read Data"
   ]
  },
  {
   "cell_type": "code",
   "execution_count": 151,
   "metadata": {
    "collapsed": false
   },
   "outputs": [
    {
     "name": "stdout",
     "output_type": "stream",
     "text": [
      "Populating the interactive namespace from numpy and matplotlib\n"
     ]
    },
    {
     "name": "stderr",
     "output_type": "stream",
     "text": [
      "WARNING: pylab import has clobbered these variables: ['long']\n",
      "`%matplotlib` prevents importing * from pylab and numpy\n"
     ]
    }
   ],
   "source": [
    "%pylab inline\n",
    "import numpy as np\n",
    "import pandas as pd\n",
    "import matplotlib.pyplot as plt"
   ]
  },
  {
   "cell_type": "code",
   "execution_count": 152,
   "metadata": {
    "collapsed": false
   },
   "outputs": [],
   "source": [
    "# leaflet?\n",
    "import json\n",
    "import gspread\n",
    "from oauth2client.client import SignedJwtAssertionCredentials\n",
    "\n",
    "json_key = json.load(open('../My Project.json.nogit'))\n",
    "scope = ['https://spreadsheets.google.com/feeds']\n",
    "\n",
    "credentials = SignedJwtAssertionCredentials(json_key['client_email'], json_key['private_key'].encode(), scope)\n",
    "\n",
    "gc = gspread.authorize(credentials)\n",
    "\n",
    "wks = gc.open(\"Fruit Trees Data\").sheet1"
   ]
  },
  {
   "cell_type": "code",
   "execution_count": 157,
   "metadata": {
    "collapsed": false
   },
   "outputs": [],
   "source": [
    "names = wks.col_values(2)\n",
    "lat = wks.col_values(5)\n",
    "long = wks.col_values(6)"
   ]
  },
  {
   "cell_type": "code",
   "execution_count": 158,
   "metadata": {
    "collapsed": true
   },
   "outputs": [],
   "source": [
    "name_vals = names[1:]\n",
    "lat_vals = [float(i) for i in lat[1:]]\n",
    "long_vals = [float(i) for i in long[1:]]"
   ]
  },
  {
   "cell_type": "code",
   "execution_count": 159,
   "metadata": {
    "collapsed": true
   },
   "outputs": [],
   "source": [
    "latlong = np.array([name_vals,lat_vals,long_vals]).T\n",
    "# print(latlong)\n",
    "\n",
    "data = pd.DataFrame(data = latlong, columns = ('name','lat', 'long'))\n",
    "# data\n",
    "\n",
    "# for reference\n",
    "# data.lat\n",
    "# data.lat[0:5]\n",
    "# data.iloc[0:5]"
   ]
  },
  {
   "cell_type": "code",
   "execution_count": 171,
   "metadata": {
    "collapsed": false
   },
   "outputs": [
    {
     "name": "stdout",
     "output_type": "stream",
     "text": [
      "persimmon!\n",
      "persimmon!\n",
      "persimmon!\n",
      "persimmon!\n",
      "persimmon!\n",
      "persimmon!\n",
      "persimmon!\n",
      "persimmon!\n"
     ]
    }
   ],
   "source": [
    "# name_vals[0]\n",
    "# data.name[0]\n",
    "# data.name[0] == 'Persimmon'\n",
    "\n",
    "# for index, row in data.iterrows():\n",
    "#     print(row.name)\n",
    "#     if row.name[index] == 'Persimmon':\n",
    "#         print(\"persimmon!\")\n",
    "\n",
    "for i in range(0,len(data)):\n",
    "#     print(data.name[i])\n",
    "    if data.name[i] == 'Persimmon':\n",
    "        print(\"persimmon!\")\n",
    "    "
   ]
  },
  {
   "cell_type": "markdown",
   "metadata": {},
   "source": [
    "### Working: write map and point to html"
   ]
  },
  {
   "cell_type": "code",
   "execution_count": 177,
   "metadata": {
    "collapsed": false
   },
   "outputs": [],
   "source": [
    "# Read nogit file for api key\n",
    "API_file = open(\"../google_api_key.nogit\",\"r\")\n",
    "key = API_file.read()\n",
    "API_KEY_LINE = \"        src=\\\"https://maps.googleapis.com/maps/api/js?key=\" + key + \"&signed_in=true&callback=initMap\\\"></script>\\n\""
   ]
  },
  {
   "cell_type": "code",
   "execution_count": 178,
   "metadata": {
    "collapsed": true
   },
   "outputs": [],
   "source": [
    "# content = \"\"\"\n",
    "# function initMap() {\n",
    "#   var map = new google.maps.Map(document.getElementById('map'), {\n",
    "#     zoom: 12,\n",
    "#     center: {lat: 37.8710922, lng: -122.265809}\n",
    "#   });\n",
    "#   var image = 'images/fig.png';\n",
    "#   var beachMarker = new google.maps.Marker({\n",
    "#     position: {lat: 37.885279, lng: -122.273261},\n",
    "#     map: map,\n",
    "#     icon: image\n",
    "#   });\n",
    "# }\n",
    "#     </script>\n",
    "#     <script async defer\"\"\" "
   ]
  },
  {
   "cell_type": "code",
   "execution_count": 179,
   "metadata": {
    "collapsed": false
   },
   "outputs": [],
   "source": [
    "content = \"\"\"\n",
    "function initMap() {\n",
    "  var map = new google.maps.Map(document.getElementById('map'), {\n",
    "    zoom: 12,\n",
    "    center: {lat: 37.8710922, lng: -122.265809}\n",
    "  });\n",
    "  var fig = 'images/fig.png';\n",
    "  var grape = 'images/grape.png';\n",
    "  var kale = 'images/kale.png';\n",
    "  var lettuce = 'images/lettuce.png';\n",
    "  var nectarine = 'images/nectarine.png';\n",
    "  var olives = 'images/olives.png';\n",
    "  var pear = 'images/pear.png';\n",
    "  var persimmon = 'images/persimmon.png';\n",
    "  var plum = 'images/plum.png';\n",
    "  var rosemary = 'images/rosemary.png';\n",
    "\"\"\"\n",
    "\n",
    "for i in range(0,len(data)):\n",
    "    if data.name[i] == 'Persimmon':\n",
    "        content = content + \"\"\"\\n  var marker\"\"\"\n",
    "        content = content + str(index)\n",
    "        content = content + \"\"\"= new google.maps.Marker({\n",
    "        position: {lat: \"\"\"\n",
    "        content = content + str(data.lat[i])\n",
    "        content = content + ', lng: '\n",
    "        content = content + str(data.long[i])\n",
    "        content = content + \"\"\"},\n",
    "        map: map,\n",
    "        icon: persimmon\n",
    "        });\"\"\"\n",
    "    elif data.name[i] == 'Fig':\n",
    "        content = content + \"\"\"\\n  var marker\"\"\"\n",
    "        content = content + str(index)\n",
    "        content = content + \"\"\"= new google.maps.Marker({\n",
    "        position: {lat: \"\"\"\n",
    "        content = content + str(data.lat[i])\n",
    "        content = content + ', lng: '\n",
    "        content = content + str(data.long[i])\n",
    "        content = content + \"\"\"},\n",
    "        map: map,\n",
    "        icon: fig\n",
    "        });\"\"\"\n",
    "\n",
    "content = content + \"\"\"}\n",
    "    </script>\n",
    "    <script async defer\"\"\" "
   ]
  },
  {
   "cell_type": "code",
   "execution_count": 180,
   "metadata": {
    "collapsed": false
   },
   "outputs": [],
   "source": [
    "header = \"\"\"<!DOCTYPE html>\n",
    "<html>\n",
    "  <head>\n",
    "    <meta name=\"viewport\" content=\"initial-scale=1.0, user-scalable=no\">\n",
    "    <meta charset=\"utf-8\">\n",
    "    <title>Simple icons</title>\n",
    "    <style>\n",
    "      html, body {\n",
    "        height: 100%;\n",
    "        margin: 0;\n",
    "        padding: 0;\n",
    "      }\n",
    "      #map {\n",
    "        height: 100%;\n",
    "      }\n",
    "    </style>\n",
    "  </head>\n",
    "  <body>\n",
    "    <div id=\"map\"></div>\n",
    "    <script> \"\"\"\n",
    "\n",
    "footer = \"\"\"\n",
    "  </body>\n",
    "</html>\"\"\""
   ]
  },
  {
   "cell_type": "code",
   "execution_count": 181,
   "metadata": {
    "collapsed": false
   },
   "outputs": [],
   "source": [
    "file = open(\"main.html\", \"w\")\n",
    "file.write(header)\n",
    "file.write(content)\n",
    "file.write(API_KEY_LINE)\n",
    "file.write(footer)\n",
    "\n",
    "# close the file\n",
    "file.close() # or Html_file.close()"
   ]
  },
  {
   "cell_type": "code",
   "execution_count": null,
   "metadata": {
    "collapsed": true
   },
   "outputs": [],
   "source": []
  },
  {
   "cell_type": "code",
   "execution_count": null,
   "metadata": {
    "collapsed": true
   },
   "outputs": [],
   "source": []
  },
  {
   "cell_type": "code",
   "execution_count": null,
   "metadata": {
    "collapsed": true
   },
   "outputs": [],
   "source": []
  },
  {
   "cell_type": "code",
   "execution_count": null,
   "metadata": {
    "collapsed": true
   },
   "outputs": [],
   "source": []
  }
 ],
 "metadata": {
  "kernelspec": {
   "display_name": "Python 3",
   "language": "python",
   "name": "python3"
  },
  "language_info": {
   "codemirror_mode": {
    "name": "ipython",
    "version": 3
   },
   "file_extension": ".py",
   "mimetype": "text/x-python",
   "name": "python",
   "nbconvert_exporter": "python",
   "pygments_lexer": "ipython3",
   "version": "3.4.3"
  }
 },
 "nbformat": 4,
 "nbformat_minor": 0
}
